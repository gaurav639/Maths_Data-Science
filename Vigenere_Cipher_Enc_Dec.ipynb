{
  "cells": [
    {
      "cell_type": "code",
      "execution_count": null,
      "metadata": {
        "id": "XTzsnUaxQnSd"
      },
      "outputs": [],
      "source": [
        "import random\n",
        "import string\n",
        "from string import ascii_letters"
      ]
    },
    {
      "cell_type": "code",
      "execution_count": null,
      "metadata": {
        "id": "GLOb6__HVztb"
      },
      "outputs": [],
      "source": [
        "from google.colab import files\n",
        "uploaded = files.upload()"
      ]
    },
    {
      "cell_type": "code",
      "execution_count": null,
      "metadata": {
        "id": "hL61OEZOWdD-"
      },
      "outputs": [],
      "source": [
        "def textstrip(filename):\n",
        "  '''This takes the file and converts it to a string with all the spaces and other\n",
        "    special characters removed. What remains is only the lower case letters\n",
        "    '''\n",
        "  f = open(filename)\n",
        "  s = f.read()\n",
        "  allowed = set(ascii_letters)  # we make a set of all english alphabet letters (both small and capital)\n",
        "  s = ''.join(l for l in s if l in allowed)  # now we join only those words which are english alphabets\n",
        "  s = s.lower()  # change the whole string into lower english alphabets\n",
        "  return s\n",
        "\n",
        "s = textstrip('sherlock.txt')\n",
        "original_str = s\n",
        "print(s)"
      ]
    },
    {
      "cell_type": "code",
      "execution_count": null,
      "metadata": {
        "id": "yuRV7BXIYc8a"
      },
      "outputs": [],
      "source": [
        "def letter_distribution(s):\n",
        "  '''Consider the string s which comprises of only lowercase letters. We Count\n",
        "    the number of occurrences then divide it by total occurrences and multiply it with 100 then store it in dictionary for each element'''\n",
        "  \n",
        "  # counting the number of times a letter comes in the string and storing it in the dictionary 'occurrences'\n",
        "  occurrences = {}\n",
        "  for i in s:\n",
        "    if i in occurrences:\n",
        "      occurrences[i] += 1\n",
        "    else:\n",
        "      occurrences[i] = 1\n",
        "\n",
        "  # print(occurrences)\n",
        "  # here we are dividing every alphabet's number of occurrences to the total number of occurrences, then multiplying it with 100 to get the distribution\n",
        "  sum1 = sum(occurrences.values())\n",
        "  for i in occurrences:\n",
        "    occurrences[i] =  (occurrences[i]/sum1) * 100\n",
        "\n",
        "  return occurrences\n",
        "  \n",
        "print(letter_distribution(s))"
      ]
    },
    {
      "cell_type": "code",
      "execution_count": null,
      "metadata": {
        "id": "MfUfCswCj6G8"
      },
      "outputs": [],
      "source": [
        "def caesar_cipher_encrypt_dict(disp):\n",
        "  '''\n",
        "  This function helps in making a caesar cipher dictionary, it takes displacement or shift number as input and gives you the shifted dictionary\n",
        "  I made this function for my ease ;)\n",
        "  '''\n",
        "  temp0 = string.ascii_lowercase\n",
        "  original_alphabet = list(temp0) # made a list of all smallcase alphabets\n",
        "\n",
        "  encrypted_alphabet = []\n",
        "  for i in range(26):\n",
        "\n",
        "    # here I made a list containing shifted small english alphabets by some shift or displacement = disp\n",
        "    # ord() function gives the ascii value\n",
        "    encrypted_alphabet.append(chr((ord(original_alphabet[i]) + disp - 97) % 26 + 97))  # to handle that after adding disp value our ascii code must not pass the last permitted value for small english alphabet, we use %26\n",
        "\n",
        "  # we make a dictionary using above two lists\n",
        "  d = dict(zip(original_alphabet, encrypted_alphabet))\n",
        "  return d\n",
        "\n",
        "encrypt_dictionary = caesar_cipher_encrypt_dict(5)\n",
        "print(encrypt_dictionary)"
      ]
    },
    {
      "cell_type": "code",
      "source": [
        "def substitution_encrypt(s,d):\n",
        "  '''\n",
        "  encrypt the contents of s by using the dictionary d which comprises of\n",
        "  the substitutions for the 26 letters. Return the resulting string\n",
        "  '''\n",
        "  encrypted_string = ''\n",
        "  for i in s:\n",
        "    encrypted_string += d[i]\n",
        "  return encrypted_string\n",
        "\n",
        "encrypted_str = substitution_encrypt(s,encrypt_dictionary) \n",
        "print(encrypted_str)\n"
      ],
      "metadata": {
        "id": "ap-Ny8xgmUcd"
      },
      "execution_count": null,
      "outputs": []
    },
    {
      "cell_type": "code",
      "execution_count": null,
      "metadata": {
        "id": "GMcheKvzPRrX"
      },
      "outputs": [],
      "source": [
        "def caesar_cipher_decrypt_dict(d):\n",
        "  '''\n",
        "  This function takes the dictionary or encrypt dictionary and reverse it so that it can be used as decrypt dictionary\n",
        "  I made this function for my ease ;)\n",
        "  '''\n",
        "  decrypt_dict = {value:key for key, value in d.items()}\n",
        "  return decrypt_dict\n",
        "\n",
        "decrypt_dictionary = caesar_cipher_decrypt_dict(encrypt_dictionary)\n",
        "print(decrypt_dictionary)"
      ]
    },
    {
      "cell_type": "code",
      "source": [
        "def substitution_decrypt(s,d):\n",
        "  '''\n",
        "  This function will take encrypted string and decrypt dictionary as input and apply to the function encrypt dictionary\n",
        "  as now we are encrypting the data with reverse dictionary i.e. we are decrypting it.\n",
        "  '''\n",
        "  subst_dec = substitution_encrypt(s,d)\n",
        "  return subst_dec\n",
        "\n",
        "decrypted_str = substitution_decrypt(encrypted_str,decrypt_dictionary)\n",
        "print(decrypted_str)"
      ],
      "metadata": {
        "id": "iBe1ng-4m93-"
      },
      "execution_count": null,
      "outputs": []
    },
    {
      "cell_type": "code",
      "source": [
        "def cryptanalyse_substitution(s):\n",
        "  '''\n",
        "  Given that the string s is given to us and it is known that it was\n",
        "  encrypted using some substitution cipher, predict the d\n",
        "  This function first calls the letter_distribution function then the caesar_cipher_encrypt_dict function\n",
        "  '''\n",
        "  frequency = letter_distribution(s)  # we calculate the frequency of every alphabet\n",
        "  maxkey = max(zip(frequency.values(), frequency.keys()))[1]  # we calculate which key in the dictionary got highest value\n",
        " \n",
        "  # we are taking letter 'e' becuase 'e' is the most occurring letter in english paragraphs or words\n",
        "  disp = ord(maxkey) - ord('e')  # now we can find out the displacement by subtracting the ascii value of most occuring alphabet( i.e. alphabet having highest freq) and ascii value of 'e'\n",
        "\n",
        "  if disp > 0:\n",
        "     decrypt_d = caesar_cipher_encrypt_dict(disp)\n",
        "     return decrypt_d\n",
        "  else:\n",
        "    decrypt_d = caesar_cipher_encrypt_dict(disp+26)  # if disp is negative we can handle the situation by adding it with 26\n",
        "    return decrypt_d\n",
        "\n",
        "print(cryptanalyse_substitution(encrypted_str))\n"
      ],
      "metadata": {
        "id": "UJycc-60H7SK"
      },
      "execution_count": null,
      "outputs": []
    },
    {
      "cell_type": "code",
      "source": [
        "def vigenere_encrypt(s,password):\n",
        "  '''\n",
        "  Encrypt the string s based on the password the vigenere cipher way and\n",
        "  return the resulting string\n",
        "  '''\n",
        "  \n",
        "  vigenere_enc_str = ''\n",
        "  for i in range (len(s)):\n",
        "\n",
        "    # Since in vigenere encryption we compare the string with password and add the value of that particular password alphabet to the respective string alphabet and then store the new alphabet\n",
        "    # so to find the position value of particular string alphabet we first subtract '97' from the ord value\n",
        "    vigenere_enc_str += chr((ord(s[i]) + (ord(password[i % len(password)]) - 97) - 97) % 26 + 97)\n",
        "\n",
        "  return vigenere_enc_str\n",
        "\n",
        "vig_enc = vigenere_encrypt(original_str,'gaurav') \n",
        "print(vig_enc)\n"
      ],
      "metadata": {
        "id": "fED1q8onMMnG"
      },
      "execution_count": null,
      "outputs": []
    },
    {
      "cell_type": "code",
      "source": [
        "def vigenere_decrypt(s,password):\n",
        "  '''\n",
        "  Decrypt the string s based on the password the vigenere cipher way and\n",
        "  return the resulting string\n",
        "  '''\n",
        "  vigenere_dec_str = ''\n",
        "\n",
        "  for i in range (len(s)):\n",
        "\n",
        "    # Here we just need to subtract the value of particular alphabet of password with respective string alphabet, which we added in the vigenere_encrypt function\n",
        "    vigenere_dec_str  += chr((ord(s[i]) - (ord(password[i % len(password)]) - 97) - 97) % 26 + 97)\n",
        "\n",
        "  return vigenere_dec_str\n",
        "\n",
        "vig_dec = vigenere_decrypt(vig_enc,'gaurav')\n",
        "\n",
        "print(vig_dec)\n"
      ],
      "metadata": {
        "id": "_5NmyJubbbA3"
      },
      "execution_count": null,
      "outputs": []
    },
    {
      "cell_type": "code",
      "source": [
        "def rotate_compare(s,r):\n",
        "  '''\n",
        "  This rotates the string s by r places and compares s(0) with s(r) and\n",
        "  returns the proportion of collisions\n",
        "  '''\n",
        "  n = len(s)\n",
        "  l1 = ''\n",
        "  \n",
        "  # Here first we are slicing the string from the end according to 'r' and then slicing it from the beginning according to 'r' then add both of them.\n",
        "  l1 = s[-1-(r-1):] + s[:-1-(r-1)]\n",
        "  # print(l1)\n",
        "\n",
        "  count = 0\n",
        "  for i in range(n):\n",
        "    if s[i] == l1[i]:\n",
        "      count += 1\n",
        "\n",
        "  return (count / n) * 100\n",
        "\n",
        "prop_collisions = rotate_compare(vig_enc,5)\n",
        "print(prop_collisions)\n"
      ],
      "metadata": {
        "id": "av5RdjhucMdJ"
      },
      "execution_count": null,
      "outputs": []
    },
    {
      "cell_type": "code",
      "source": [
        "def cryptanalyse_vigenere_afterlength(s,k):\n",
        "  '''\n",
        "  Given the string s which is known to be vigenere encrypted with a\n",
        "  password of length k, find out what is the password\n",
        "  '''\n",
        "  pswrd = '' # string that will store the password\n",
        "  p = k # length of password\n",
        "  i = 0 \n",
        "  j = 0 \n",
        "  n = len(s)\n",
        "\n",
        "  while k > 0:  # this loop last till the password length\n",
        "    l = ''\n",
        "    while i <= n-p:  # this loop run till n-p\n",
        "     \n",
        "      # we are storing the alphabets from encrypted string according to the password length\n",
        "      # i.e. for the first iteration we will store all the alphabets mapping to the first alphabet of the key then next then so on we will do it\n",
        "      l += s[i]\n",
        "\n",
        "      # we will increase the pointer according to the password length  \n",
        "      i += p\n",
        "    # print(l)\n",
        "    freq = letter_distribution(l)\n",
        "    # print(freq)\n",
        "\n",
        "    # here we are finding the key having maximum value\n",
        "    maxv = 0\n",
        "    for key,value in freq.items():\n",
        "      if value > maxv:\n",
        "        maxv = value\n",
        "    \n",
        "    for key,value in freq.items():\n",
        "      if value == maxv:\n",
        "        maxk = key\n",
        "        break\n",
        "    \n",
        "    # print(maxk)\n",
        "\n",
        "    # according to the displacement or shift we now calculating the alphabets of password\n",
        "    disp = ord(maxk) - ord('e')\n",
        "    if disp >= 0:\n",
        "      pswrd += chr(disp + 97)\n",
        "    else:\n",
        "      pswrd += chr(disp + 26 + 97)\n",
        "\n",
        "    k = k - 1\n",
        "    j = j + 1\n",
        "    i = j\n",
        "\n",
        "  return pswrd\n",
        "\n",
        "decrypt_password = cryptanalyse_vigenere_afterlength(vig_enc,6)\n",
        "print(decrypt_password)\n"
      ],
      "metadata": {
        "id": "lrRfuxI_rDZF"
      },
      "execution_count": null,
      "outputs": []
    },
    {
      "cell_type": "code",
      "source": [
        "\n",
        "def cryptanalyse_vigenere_findlength(s):\n",
        "  '''\n",
        "  Given just the string s, find out the length of the password using which\n",
        "  some text has resulted in the string s. We just need to return the number\n",
        "  k\n",
        "  '''\n",
        "  collision_list = []\n",
        "  for i in range(1,400):  # we are assuming that the password length can be maximum of 400 alphabets so we are shifteing the encrypted string for a maximum of 1000 times\n",
        "    collision_list.append(rotate_compare(s,i))\n",
        "\n",
        "  # print(collision_list)\n",
        "  for i in range(1,len(collision_list)):\n",
        "\n",
        "    # after calculating the collisions using different passwords, i find out that the spiked value could be approx. >= 1.5 , else all values are very less changed\n",
        "    if (collision_list[i] - collision_list[i-1]) > 1.5:  \n",
        "      return i+1  # due to '0' indexing we have to do i+1\n",
        "      break\n",
        "  \n",
        "print(cryptanalyse_vigenere_findlength(vig_enc))\n"
      ],
      "metadata": {
        "id": "r2M2Br-rm18W"
      },
      "execution_count": null,
      "outputs": []
    },
    {
      "cell_type": "code",
      "source": [
        "def cryptanalyse_vigenere(s):\n",
        "  '''\n",
        "  Given the string s cryptanalyse vigenere, output the password as well as\n",
        "  the plaintext\n",
        "  '''\n",
        "  password_length = cryptanalyse_vigenere_findlength(s)  # calculate the password length\n",
        "  final_password = cryptanalyse_vigenere_afterlength(s,password_length)  # find outh the password\n",
        "  decrypted_string = vigenere_decrypt(s, final_password)  # decrypt the encrypted string\n",
        "  return decrypted_string\n",
        "\n",
        "print(cryptanalyse_vigenere(vig_enc))"
      ],
      "metadata": {
        "id": "JoDqiZJCY0Q9"
      },
      "execution_count": null,
      "outputs": []
    },
    {
      "cell_type": "code",
      "source": [],
      "metadata": {
        "id": "9HNqpd0mgzn8"
      },
      "execution_count": null,
      "outputs": []
    }
  ],
  "metadata": {
    "colab": {
      "provenance": [],
      "collapsed_sections": []
    },
    "kernelspec": {
      "display_name": "Python 3",
      "name": "python3"
    },
    "language_info": {
      "name": "python"
    }
  },
  "nbformat": 4,
  "nbformat_minor": 0
}